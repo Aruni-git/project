{
 "cells": [
  {
   "cell_type": "code",
   "execution_count": 1,
   "id": "50e8b952",
   "metadata": {},
   "outputs": [
    {
     "ename": "IndentationError",
     "evalue": "unexpected indent (1269634146.py, line 8)",
     "output_type": "error",
     "traceback": [
      "\u001b[0;36m  Cell \u001b[0;32mIn[1], line 8\u001b[0;36m\u001b[0m\n\u001b[0;31m    from sklearn.grid_search import GridSearchCV\u001b[0m\n\u001b[0m    ^\u001b[0m\n\u001b[0;31mIndentationError\u001b[0m\u001b[0;31m:\u001b[0m unexpected indent\n"
     ]
    }
   ],
   "source": [
    "import numpy as np\n",
    "import pandas as pd\n",
    "import seaborn as sns\n",
    "import matplotlib.pyplot as plt\n",
    "from sklearn.preprocessing import StandardScaler\n",
    "from sklearn.feature_selection import SelectKBest,f_classif\n",
    "from sklearn.model_selection import train_test_split,GridSearchCV\n",
    " from sklearn.grid_search import GridSearchCV\n",
    "from sklearn.neighbors import KNeighborsClassifier\n",
    "from sklearn.metrics import accuracy_score,f1_score,confusion_matrix,classification_report,ConfusionMatrixDisplay"
   ]
  },
  {
   "cell_type": "code",
   "execution_count": null,
   "id": "58e6c52d",
   "metadata": {},
   "outputs": [],
   "source": [
    "data = pd.read_csv(r'/Users/aruni/VScode_Workspace/project/dataset/data.csv')"
   ]
  },
  {
   "cell_type": "code",
   "execution_count": null,
   "id": "49afe936",
   "metadata": {},
   "outputs": [],
   "source": [
    "data.head()"
   ]
  },
  {
   "cell_type": "code",
   "execution_count": null,
   "id": "0e1cef46",
   "metadata": {},
   "outputs": [],
   "source": [
    "data.describe()"
   ]
  },
  {
   "cell_type": "code",
   "execution_count": null,
   "id": "f6b1098a",
   "metadata": {},
   "outputs": [],
   "source": [
    "data.isnull().sum()"
   ]
  },
  {
   "cell_type": "code",
   "execution_count": null,
   "id": "1889b656",
   "metadata": {},
   "outputs": [],
   "source": [
    "data.duplicated().sum()"
   ]
  },
  {
   "cell_type": "code",
   "execution_count": null,
   "id": "80820df7",
   "metadata": {},
   "outputs": [],
   "source": [
    "data.drop(['Unnamed: 32','id'],axis=1,inplace=True)"
   ]
  },
  {
   "cell_type": "code",
   "execution_count": null,
   "id": "1c62e625",
   "metadata": {},
   "outputs": [],
   "source": [
    "y = data['diagnosis']\n",
    "X = data.drop(['diagnosis'],axis=1)"
   ]
  },
  {
   "cell_type": "code",
   "execution_count": null,
   "id": "a14aec4c",
   "metadata": {},
   "outputs": [],
   "source": [
    "y.unique()"
   ]
  },
  {
   "cell_type": "code",
   "execution_count": null,
   "id": "d8b2f6f8",
   "metadata": {},
   "outputs": [],
   "source": [
    "y.value_counts()"
   ]
  },
  {
   "cell_type": "code",
   "execution_count": null,
   "id": "c17afd7f",
   "metadata": {},
   "outputs": [],
   "source": [
    "sns.histplot(y)"
   ]
  },
  {
   "cell_type": "code",
   "execution_count": null,
   "id": "a5e96916",
   "metadata": {},
   "outputs": [],
   "source": [
    "#map the diagnosis to 0 and 1\n",
    "y = y.map({'M':1,'B':0})\n",
    "y.value_counts()"
   ]
  },
  {
   "cell_type": "code",
   "execution_count": null,
   "id": "02f26074",
   "metadata": {},
   "outputs": [],
   "source": [
    "X.head()"
   ]
  },
  {
   "cell_type": "code",
   "execution_count": null,
   "id": "6cd1a232",
   "metadata": {},
   "outputs": [],
   "source": [
    "sns.pairplot(data,hue='diagnosis',vars=['radius_mean','texture_mean','smoothness_mean','compactness_mean','concavity_mean'])"
   ]
  },
  {
   "cell_type": "code",
   "execution_count": null,
   "id": "e2949d36",
   "metadata": {},
   "outputs": [],
   "source": [
    "sns.heatmap(X.corr())"
   ]
  },
  {
   "cell_type": "code",
   "execution_count": null,
   "id": "22573756",
   "metadata": {},
   "outputs": [],
   "source": [
    "def high_corr(data,threshold):\n",
    "    highly_corr = []\n",
    "    for i in range(len(data.corr().columns)):\n",
    "        for j in range(i):\n",
    "            if abs(data.corr().iloc[i,j]) > threshold:\n",
    "                print(f'({data.corr().columns[i]},{data.corr().columns[j]}) : {data.corr().iloc[i,j]}')\n",
    "                highly_corr.append((data.corr().columns[i],data.corr().columns[j]))\n",
    "    return highly_corr\n",
    "\n",
    "high_corr_list = high_corr(X,0.95)"
   ]
  },
  {
   "cell_type": "code",
   "execution_count": null,
   "id": "424d8905",
   "metadata": {},
   "outputs": [],
   "source": [
    "high_corr_list"
   ]
  },
  {
   "cell_type": "code",
   "execution_count": null,
   "id": "286406b8",
   "metadata": {},
   "outputs": [],
   "source": [
    "X.drop(['perimeter_mean','area_mean','perimeter_se','area_se','perimeter_worst','area_worst'],axis=1,inplace=True)"
   ]
  },
  {
   "cell_type": "code",
   "execution_count": null,
   "id": "d2a11bb5",
   "metadata": {},
   "outputs": [],
   "source": [
    "X.shape"
   ]
  },
  {
   "cell_type": "code",
   "execution_count": null,
   "id": "7f01cc43",
   "metadata": {},
   "outputs": [],
   "source": [
    "selector = SelectKBest(f_classif,k=X.shape[1])\n",
    "selector.fit(X,y)\n",
    "print(selector.scores_)\n",
    "for i,score in enumerate(selector.scores_):\n",
    "    plt.bar(i,score)\n",
    "plt.xticks(range(X.shape[1]),X.columns,rotation=90)\n",
    "plt.show()"
   ]
  },
  {
   "cell_type": "code",
   "execution_count": null,
   "id": "51414c9b",
   "metadata": {},
   "outputs": [],
   "source": [
    "X.drop(['fractal_dimension_mean','texture_se','smoothness_se','symmetry_se','fractal_dimension_se',],axis=1,inplace=True)"
   ]
  },
  {
   "cell_type": "code",
   "execution_count": null,
   "id": "68baf3c2",
   "metadata": {},
   "outputs": [],
   "source": [
    "X.shape"
   ]
  },
  {
   "cell_type": "code",
   "execution_count": null,
   "id": "e242dbc0",
   "metadata": {},
   "outputs": [],
   "source": [
    "X.describe()"
   ]
  },
  {
   "cell_type": "code",
   "execution_count": null,
   "id": "65152bd1",
   "metadata": {},
   "outputs": [],
   "source": [
    "X = StandardScaler().fit_transform(X)"
   ]
  },
  {
   "cell_type": "code",
   "execution_count": null,
   "id": "1de142c8",
   "metadata": {},
   "outputs": [],
   "source": [
    "X_,X_test,Y_,y_test = train_test_split(X,y,test_size=0.2,random_state=42)\n",
    "X_train,X_val,y_train,y_val = train_test_split(X_,Y_,test_size=0.3,random_state=42)\n",
    "print(X_train.shape,X_val.shape,X_test.shape)"
   ]
  },
  {
   "cell_type": "code",
   "execution_count": null,
   "id": "37a54f19",
   "metadata": {},
   "outputs": [],
   "source": [
    "model = KNeighborsClassifier()\n",
    "params = {'n_neighbors':range(1,10),'weights':['uniform','distance']}\n",
    "best = grid_search(model,params,X_train,y_train)\n",
    "best"
   ]
  },
  {
   "cell_type": "code",
   "execution_count": null,
   "id": "28467db3",
   "metadata": {},
   "outputs": [],
   "source": [
    "model = KNeighborsClassifier(n_neighbors=best['n_neighbors'],weights=best['weights']).fit(X_train,y_train)\n",
    "y_pred = model.predict(X_val)\n",
    "predection = model.predict(X_test)\n",
    "print(f'Val Accuracy: {accuracy_score(y_val, y_pred)}')\n",
    "print(f'Test Accuracy: {accuracy_score(y_test, predection)}')"
   ]
  },
  {
   "cell_type": "code",
   "execution_count": null,
   "id": "b4945526",
   "metadata": {},
   "outputs": [],
   "source": [
    "print(classification_report(y_test,predection))\n",
    "cm = confusion_matrix(y_test,predection)\n",
    "ConfusionMatrixDisplay(cm,display_labels=['B','M']).plot()"
   ]
  }
 ],
 "metadata": {
  "kernelspec": {
   "display_name": "Python 3 (ipykernel)",
   "language": "python",
   "name": "python3"
  },
  "language_info": {
   "codemirror_mode": {
    "name": "ipython",
    "version": 3
   },
   "file_extension": ".py",
   "mimetype": "text/x-python",
   "name": "python",
   "nbconvert_exporter": "python",
   "pygments_lexer": "ipython3",
   "version": "3.11.7"
  }
 },
 "nbformat": 4,
 "nbformat_minor": 5
}
